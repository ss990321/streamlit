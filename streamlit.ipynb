{
 "cells": [
  {
   "cell_type": "code",
   "execution_count": 2,
   "id": "initial_id",
   "metadata": {
    "collapsed": true,
    "ExecuteTime": {
     "end_time": "2024-05-18T01:55:49.594044500Z",
     "start_time": "2024-05-18T01:55:26.627092200Z"
    }
   },
   "outputs": [
    {
     "name": "stdout",
     "output_type": "stream",
     "text": [
      "Collecting streamlit\n",
      "  Downloading streamlit-1.12.0-py2.py3-none-any.whl.metadata (1.3 kB)\n",
      "Requirement already satisfied: altair>=3.2.0 in c:\\users\\soyun\\anaconda3\\lib\\site-packages (from streamlit) (5.3.0)\n",
      "Collecting blinker>=1.0.0 (from streamlit)\n",
      "  Downloading blinker-1.8.2-py3-none-any.whl.metadata (1.6 kB)\n",
      "Requirement already satisfied: cachetools>=4.0 in c:\\users\\soyun\\anaconda3\\lib\\site-packages (from streamlit) (5.3.0)\n",
      "Requirement already satisfied: click>=7.0 in c:\\users\\soyun\\anaconda3\\lib\\site-packages (from streamlit) (8.0.4)\n",
      "Requirement already satisfied: importlib-metadata>=1.4 in c:\\users\\soyun\\appdata\\roaming\\python\\python39\\site-packages (from streamlit) (7.0.0)\n",
      "Requirement already satisfied: numpy in c:\\users\\soyun\\appdata\\roaming\\python\\python39\\site-packages (from streamlit) (1.25.2)\n",
      "Requirement already satisfied: packaging>=14.1 in c:\\users\\soyun\\appdata\\roaming\\python\\python39\\site-packages (from streamlit) (23.2)\n",
      "Requirement already satisfied: pandas>=0.21.0 in c:\\users\\soyun\\anaconda3\\lib\\site-packages (from streamlit) (2.1.4)\n",
      "Requirement already satisfied: pillow>=6.2.0 in c:\\users\\soyun\\appdata\\roaming\\python\\python39\\site-packages (from streamlit) (10.1.0)\n",
      "Requirement already satisfied: protobuf<4,>=3.12 in c:\\users\\soyun\\anaconda3\\lib\\site-packages (from streamlit) (3.19.6)\n",
      "Collecting pyarrow>=4.0 (from streamlit)\n",
      "  Using cached pyarrow-16.1.0-cp39-cp39-win_amd64.whl.metadata (3.1 kB)\n",
      "Collecting pydeck>=0.1.dev5 (from streamlit)\n",
      "  Downloading pydeck-0.9.1-py2.py3-none-any.whl.metadata (4.1 kB)\n",
      "Collecting pympler>=0.9 (from streamlit)\n",
      "  Downloading Pympler-1.0.1-py3-none-any.whl.metadata (3.4 kB)\n",
      "Requirement already satisfied: python-dateutil in c:\\users\\soyun\\appdata\\roaming\\python\\python39\\site-packages (from streamlit) (2.8.2)\n",
      "Requirement already satisfied: requests>=2.4 in c:\\users\\soyun\\appdata\\roaming\\python\\python39\\site-packages (from streamlit) (2.31.0)\n",
      "Requirement already satisfied: rich>=10.11.0 in c:\\users\\soyun\\anaconda3\\lib\\site-packages (from streamlit) (13.7.1)\n",
      "Collecting semver (from streamlit)\n",
      "  Downloading semver-3.0.2-py3-none-any.whl.metadata (5.0 kB)\n",
      "Requirement already satisfied: toml in c:\\users\\soyun\\anaconda3\\lib\\site-packages (from streamlit) (0.10.2)\n",
      "Requirement already satisfied: tornado>=5.0 in c:\\users\\soyun\\appdata\\roaming\\python\\python39\\site-packages (from streamlit) (6.1)\n",
      "Requirement already satisfied: typing-extensions>=3.10.0.0 in c:\\users\\soyun\\appdata\\roaming\\python\\python39\\site-packages (from streamlit) (4.9.0)\n",
      "Collecting tzlocal>=1.1 (from streamlit)\n",
      "  Downloading tzlocal-5.2-py3-none-any.whl.metadata (7.8 kB)\n",
      "Collecting validators>=0.2 (from streamlit)\n",
      "  Downloading validators-0.28.1-py3-none-any.whl.metadata (3.6 kB)\n",
      "Collecting gitpython!=3.1.19 (from streamlit)\n",
      "  Downloading GitPython-3.1.43-py3-none-any.whl.metadata (13 kB)\n",
      "Requirement already satisfied: watchdog in c:\\users\\soyun\\anaconda3\\lib\\site-packages (from streamlit) (2.1.6)\n",
      "Requirement already satisfied: jinja2 in c:\\users\\soyun\\appdata\\roaming\\python\\python39\\site-packages (from altair>=3.2.0->streamlit) (3.1.2)\n",
      "Requirement already satisfied: jsonschema>=3.0 in c:\\users\\soyun\\anaconda3\\lib\\site-packages (from altair>=3.2.0->streamlit) (3.2.0)\n",
      "Requirement already satisfied: toolz in c:\\users\\soyun\\anaconda3\\lib\\site-packages (from altair>=3.2.0->streamlit) (0.11.2)\n",
      "Requirement already satisfied: colorama in c:\\users\\soyun\\appdata\\roaming\\python\\python39\\site-packages (from click>=7.0->streamlit) (0.4.4)\n",
      "Collecting gitdb<5,>=4.0.1 (from gitpython!=3.1.19->streamlit)\n",
      "  Downloading gitdb-4.0.11-py3-none-any.whl.metadata (1.2 kB)\n",
      "Requirement already satisfied: zipp>=0.5 in c:\\users\\soyun\\appdata\\roaming\\python\\python39\\site-packages (from importlib-metadata>=1.4->streamlit) (3.17.0)\n",
      "Requirement already satisfied: pytz>=2020.1 in c:\\users\\soyun\\appdata\\roaming\\python\\python39\\site-packages (from pandas>=0.21.0->streamlit) (2023.3.post1)\n",
      "Requirement already satisfied: tzdata>=2022.1 in c:\\users\\soyun\\appdata\\roaming\\python\\python39\\site-packages (from pandas>=0.21.0->streamlit) (2023.3)\n",
      "Requirement already satisfied: six>=1.5 in c:\\users\\soyun\\appdata\\roaming\\python\\python39\\site-packages (from python-dateutil->streamlit) (1.16.0)\n",
      "Requirement already satisfied: charset-normalizer<4,>=2 in c:\\users\\soyun\\appdata\\roaming\\python\\python39\\site-packages (from requests>=2.4->streamlit) (3.3.2)\n",
      "Requirement already satisfied: idna<4,>=2.5 in c:\\users\\soyun\\appdata\\roaming\\python\\python39\\site-packages (from requests>=2.4->streamlit) (3.6)\n",
      "Requirement already satisfied: urllib3<3,>=1.21.1 in c:\\users\\soyun\\appdata\\roaming\\python\\python39\\site-packages (from requests>=2.4->streamlit) (2.1.0)\n",
      "Requirement already satisfied: certifi>=2017.4.17 in c:\\users\\soyun\\appdata\\roaming\\python\\python39\\site-packages (from requests>=2.4->streamlit) (2023.11.17)\n",
      "Requirement already satisfied: markdown-it-py>=2.2.0 in c:\\users\\soyun\\anaconda3\\lib\\site-packages (from rich>=10.11.0->streamlit) (3.0.0)\n",
      "Requirement already satisfied: pygments<3.0.0,>=2.13.0 in c:\\users\\soyun\\anaconda3\\lib\\site-packages (from rich>=10.11.0->streamlit) (2.18.0)\n",
      "Collecting smmap<6,>=3.0.1 (from gitdb<5,>=4.0.1->gitpython!=3.1.19->streamlit)\n",
      "  Downloading smmap-5.0.1-py3-none-any.whl.metadata (4.3 kB)\n",
      "Requirement already satisfied: MarkupSafe>=2.0 in c:\\users\\soyun\\appdata\\roaming\\python\\python39\\site-packages (from jinja2->altair>=3.2.0->streamlit) (2.1.3)\n",
      "Requirement already satisfied: attrs>=17.4.0 in c:\\users\\soyun\\appdata\\roaming\\python\\python39\\site-packages (from jsonschema>=3.0->altair>=3.2.0->streamlit) (23.1.0)\n",
      "Requirement already satisfied: pyrsistent>=0.14.0 in c:\\users\\soyun\\anaconda3\\lib\\site-packages (from jsonschema>=3.0->altair>=3.2.0->streamlit) (0.18.0)\n",
      "Requirement already satisfied: setuptools in c:\\users\\soyun\\anaconda3\\lib\\site-packages (from jsonschema>=3.0->altair>=3.2.0->streamlit) (58.0.4)\n",
      "Requirement already satisfied: mdurl~=0.1 in c:\\users\\soyun\\anaconda3\\lib\\site-packages (from markdown-it-py>=2.2.0->rich>=10.11.0->streamlit) (0.1.2)\n",
      "Downloading streamlit-1.12.0-py2.py3-none-any.whl (9.1 MB)\n",
      "   ---------------------------------------- 9.1/9.1 MB 3.7 MB/s eta 0:00:00\n",
      "Downloading blinker-1.8.2-py3-none-any.whl (9.5 kB)\n",
      "Downloading GitPython-3.1.43-py3-none-any.whl (207 kB)\n",
      "   ---------------------------------------- 207.3/207.3 kB 1.8 MB/s eta 0:00:00\n",
      "Using cached pyarrow-16.1.0-cp39-cp39-win_amd64.whl (25.9 MB)\n",
      "Downloading pydeck-0.9.1-py2.py3-none-any.whl (6.9 MB)\n",
      "   ---------------------------------------- 6.9/6.9 MB 3.9 MB/s eta 0:00:00\n",
      "Downloading Pympler-1.0.1-py3-none-any.whl (164 kB)\n",
      "   ---------------------------------------- 164.8/164.8 kB 3.3 MB/s eta 0:00:00\n",
      "Downloading tzlocal-5.2-py3-none-any.whl (17 kB)\n",
      "Downloading validators-0.28.1-py3-none-any.whl (39 kB)\n",
      "Downloading semver-3.0.2-py3-none-any.whl (17 kB)\n",
      "Downloading gitdb-4.0.11-py3-none-any.whl (62 kB)\n",
      "   ---------------------------------------- 62.7/62.7 kB 3.3 MB/s eta 0:00:00\n",
      "Downloading smmap-5.0.1-py3-none-any.whl (24 kB)\n",
      "Installing collected packages: validators, tzlocal, smmap, semver, pympler, pyarrow, blinker, pydeck, gitdb, gitpython, streamlit\n",
      "Successfully installed blinker-1.8.2 gitdb-4.0.11 gitpython-3.1.43 pyarrow-16.1.0 pydeck-0.9.1 pympler-1.0.1 semver-3.0.2 smmap-5.0.1 streamlit-1.12.0 tzlocal-5.2 validators-0.28.1\n"
     ]
    }
   ],
   "source": [
    "!pip install streamlit"
   ]
  },
  {
   "cell_type": "markdown",
   "source": [],
   "metadata": {
    "collapsed": false
   },
   "id": "d96510f74a7fbd80"
  },
  {
   "cell_type": "code",
   "execution_count": 6,
   "outputs": [
    {
     "name": "stdout",
     "output_type": "stream",
     "text": [
      "Requirement already satisfied: streamlit in c:\\users\\soyun\\anaconda3\\lib\\site-packages (1.12.0)\n",
      "Requirement already satisfied: altair>=3.2.0 in c:\\users\\soyun\\anaconda3\\lib\\site-packages (from streamlit) (4.0.0)\n",
      "Requirement already satisfied: blinker>=1.0.0 in c:\\users\\soyun\\anaconda3\\lib\\site-packages (from streamlit) (1.8.2)\n",
      "Requirement already satisfied: cachetools>=4.0 in c:\\users\\soyun\\anaconda3\\lib\\site-packages (from streamlit) (5.3.0)\n",
      "Requirement already satisfied: click>=7.0 in c:\\users\\soyun\\anaconda3\\lib\\site-packages (from streamlit) (8.0.4)\n",
      "Requirement already satisfied: importlib-metadata>=1.4 in c:\\users\\soyun\\appdata\\roaming\\python\\python39\\site-packages (from streamlit) (7.0.0)\n",
      "Requirement already satisfied: numpy in c:\\users\\soyun\\appdata\\roaming\\python\\python39\\site-packages (from streamlit) (1.25.2)\n",
      "Requirement already satisfied: packaging>=14.1 in c:\\users\\soyun\\appdata\\roaming\\python\\python39\\site-packages (from streamlit) (23.2)\n",
      "Requirement already satisfied: pandas>=0.21.0 in c:\\users\\soyun\\anaconda3\\lib\\site-packages (from streamlit) (2.1.4)\n",
      "Requirement already satisfied: pillow>=6.2.0 in c:\\users\\soyun\\appdata\\roaming\\python\\python39\\site-packages (from streamlit) (10.1.0)\n",
      "Requirement already satisfied: protobuf<4,>=3.12 in c:\\users\\soyun\\anaconda3\\lib\\site-packages (from streamlit) (3.19.6)\n",
      "Requirement already satisfied: pyarrow>=4.0 in c:\\users\\soyun\\anaconda3\\lib\\site-packages (from streamlit) (16.1.0)\n",
      "Requirement already satisfied: pydeck>=0.1.dev5 in c:\\users\\soyun\\anaconda3\\lib\\site-packages (from streamlit) (0.9.1)\n",
      "Requirement already satisfied: pympler>=0.9 in c:\\users\\soyun\\anaconda3\\lib\\site-packages (from streamlit) (1.0.1)\n",
      "Requirement already satisfied: python-dateutil in c:\\users\\soyun\\appdata\\roaming\\python\\python39\\site-packages (from streamlit) (2.8.2)\n",
      "Requirement already satisfied: requests>=2.4 in c:\\users\\soyun\\appdata\\roaming\\python\\python39\\site-packages (from streamlit) (2.31.0)\n",
      "Requirement already satisfied: rich>=10.11.0 in c:\\users\\soyun\\anaconda3\\lib\\site-packages (from streamlit) (13.7.1)\n",
      "Requirement already satisfied: semver in c:\\users\\soyun\\anaconda3\\lib\\site-packages (from streamlit) (3.0.2)\n",
      "Requirement already satisfied: toml in c:\\users\\soyun\\anaconda3\\lib\\site-packages (from streamlit) (0.10.2)\n",
      "Requirement already satisfied: tornado>=5.0 in c:\\users\\soyun\\appdata\\roaming\\python\\python39\\site-packages (from streamlit) (6.1)\n",
      "Requirement already satisfied: typing-extensions>=3.10.0.0 in c:\\users\\soyun\\appdata\\roaming\\python\\python39\\site-packages (from streamlit) (4.9.0)\n",
      "Requirement already satisfied: tzlocal>=1.1 in c:\\users\\soyun\\anaconda3\\lib\\site-packages (from streamlit) (5.2)\n",
      "Requirement already satisfied: validators>=0.2 in c:\\users\\soyun\\anaconda3\\lib\\site-packages (from streamlit) (0.28.1)\n",
      "Requirement already satisfied: gitpython!=3.1.19 in c:\\users\\soyun\\anaconda3\\lib\\site-packages (from streamlit) (3.1.43)\n",
      "Requirement already satisfied: watchdog in c:\\users\\soyun\\anaconda3\\lib\\site-packages (from streamlit) (2.1.6)\n",
      "Requirement already satisfied: entrypoints in c:\\users\\soyun\\appdata\\roaming\\python\\python39\\site-packages (from altair>=3.2.0->streamlit) (0.4)\n",
      "Requirement already satisfied: jinja2 in c:\\users\\soyun\\appdata\\roaming\\python\\python39\\site-packages (from altair>=3.2.0->streamlit) (3.1.2)\n",
      "Requirement already satisfied: jsonschema in c:\\users\\soyun\\anaconda3\\lib\\site-packages (from altair>=3.2.0->streamlit) (3.2.0)\n",
      "Requirement already satisfied: toolz in c:\\users\\soyun\\anaconda3\\lib\\site-packages (from altair>=3.2.0->streamlit) (0.11.2)\n",
      "Requirement already satisfied: colorama in c:\\users\\soyun\\appdata\\roaming\\python\\python39\\site-packages (from click>=7.0->streamlit) (0.4.4)\n",
      "Requirement already satisfied: gitdb<5,>=4.0.1 in c:\\users\\soyun\\anaconda3\\lib\\site-packages (from gitpython!=3.1.19->streamlit) (4.0.11)\n",
      "Requirement already satisfied: zipp>=0.5 in c:\\users\\soyun\\appdata\\roaming\\python\\python39\\site-packages (from importlib-metadata>=1.4->streamlit) (3.17.0)\n",
      "Requirement already satisfied: pytz>=2020.1 in c:\\users\\soyun\\appdata\\roaming\\python\\python39\\site-packages (from pandas>=0.21.0->streamlit) (2023.3.post1)\n",
      "Requirement already satisfied: tzdata>=2022.1 in c:\\users\\soyun\\appdata\\roaming\\python\\python39\\site-packages (from pandas>=0.21.0->streamlit) (2023.3)\n",
      "Requirement already satisfied: six>=1.5 in c:\\users\\soyun\\appdata\\roaming\\python\\python39\\site-packages (from python-dateutil->streamlit) (1.16.0)\n",
      "Requirement already satisfied: charset-normalizer<4,>=2 in c:\\users\\soyun\\appdata\\roaming\\python\\python39\\site-packages (from requests>=2.4->streamlit) (3.3.2)\n",
      "Requirement already satisfied: idna<4,>=2.5 in c:\\users\\soyun\\appdata\\roaming\\python\\python39\\site-packages (from requests>=2.4->streamlit) (3.6)\n",
      "Requirement already satisfied: urllib3<3,>=1.21.1 in c:\\users\\soyun\\appdata\\roaming\\python\\python39\\site-packages (from requests>=2.4->streamlit) (2.1.0)\n",
      "Requirement already satisfied: certifi>=2017.4.17 in c:\\users\\soyun\\appdata\\roaming\\python\\python39\\site-packages (from requests>=2.4->streamlit) (2023.11.17)\n",
      "Requirement already satisfied: markdown-it-py>=2.2.0 in c:\\users\\soyun\\anaconda3\\lib\\site-packages (from rich>=10.11.0->streamlit) (3.0.0)\n",
      "Requirement already satisfied: pygments<3.0.0,>=2.13.0 in c:\\users\\soyun\\anaconda3\\lib\\site-packages (from rich>=10.11.0->streamlit) (2.18.0)\n",
      "Requirement already satisfied: smmap<6,>=3.0.1 in c:\\users\\soyun\\anaconda3\\lib\\site-packages (from gitdb<5,>=4.0.1->gitpython!=3.1.19->streamlit) (5.0.1)\n",
      "Requirement already satisfied: MarkupSafe>=2.0 in c:\\users\\soyun\\appdata\\roaming\\python\\python39\\site-packages (from jinja2->altair>=3.2.0->streamlit) (2.1.3)\n",
      "Requirement already satisfied: mdurl~=0.1 in c:\\users\\soyun\\anaconda3\\lib\\site-packages (from markdown-it-py>=2.2.0->rich>=10.11.0->streamlit) (0.1.2)\n",
      "Requirement already satisfied: attrs>=17.4.0 in c:\\users\\soyun\\appdata\\roaming\\python\\python39\\site-packages (from jsonschema->altair>=3.2.0->streamlit) (23.1.0)\n",
      "Requirement already satisfied: pyrsistent>=0.14.0 in c:\\users\\soyun\\anaconda3\\lib\\site-packages (from jsonschema->altair>=3.2.0->streamlit) (0.18.0)\n",
      "Requirement already satisfied: setuptools in c:\\users\\soyun\\anaconda3\\lib\\site-packages (from jsonschema->altair>=3.2.0->streamlit) (58.0.4)\n"
     ]
    }
   ],
   "source": [
    "!pip install streamlit --upgrade"
   ],
   "metadata": {
    "collapsed": false,
    "ExecuteTime": {
     "end_time": "2024-05-18T02:28:18.422014100Z",
     "start_time": "2024-05-18T02:28:07.193012200Z"
    }
   },
   "id": "b65747572ba30c2d"
  },
  {
   "cell_type": "code",
   "execution_count": 2,
   "outputs": [
    {
     "name": "stdout",
     "output_type": "stream",
     "text": [
      "Collecting altair==4.0\n",
      "  Downloading altair-4.0.0-py2.py3-none-any.whl.metadata (12 kB)\n",
      "Requirement already satisfied: entrypoints in c:\\users\\soyun\\appdata\\roaming\\python\\python39\\site-packages (from altair==4.0) (0.4)\n",
      "Requirement already satisfied: jinja2 in c:\\users\\soyun\\appdata\\roaming\\python\\python39\\site-packages (from altair==4.0) (3.1.2)\n",
      "Requirement already satisfied: jsonschema in c:\\users\\soyun\\anaconda3\\lib\\site-packages (from altair==4.0) (3.2.0)\n",
      "Requirement already satisfied: numpy in c:\\users\\soyun\\appdata\\roaming\\python\\python39\\site-packages (from altair==4.0) (1.25.2)\n",
      "Requirement already satisfied: pandas in c:\\users\\soyun\\anaconda3\\lib\\site-packages (from altair==4.0) (2.1.4)\n",
      "Requirement already satisfied: toolz in c:\\users\\soyun\\anaconda3\\lib\\site-packages (from altair==4.0) (0.11.2)\n",
      "Requirement already satisfied: MarkupSafe>=2.0 in c:\\users\\soyun\\appdata\\roaming\\python\\python39\\site-packages (from jinja2->altair==4.0) (2.1.3)\n",
      "Requirement already satisfied: attrs>=17.4.0 in c:\\users\\soyun\\appdata\\roaming\\python\\python39\\site-packages (from jsonschema->altair==4.0) (23.1.0)\n",
      "Requirement already satisfied: pyrsistent>=0.14.0 in c:\\users\\soyun\\anaconda3\\lib\\site-packages (from jsonschema->altair==4.0) (0.18.0)\n",
      "Requirement already satisfied: setuptools in c:\\users\\soyun\\anaconda3\\lib\\site-packages (from jsonschema->altair==4.0) (58.0.4)\n",
      "Requirement already satisfied: six>=1.11.0 in c:\\users\\soyun\\appdata\\roaming\\python\\python39\\site-packages (from jsonschema->altair==4.0) (1.16.0)\n",
      "Requirement already satisfied: python-dateutil>=2.8.2 in c:\\users\\soyun\\appdata\\roaming\\python\\python39\\site-packages (from pandas->altair==4.0) (2.8.2)\n",
      "Requirement already satisfied: pytz>=2020.1 in c:\\users\\soyun\\appdata\\roaming\\python\\python39\\site-packages (from pandas->altair==4.0) (2023.3.post1)\n",
      "Requirement already satisfied: tzdata>=2022.1 in c:\\users\\soyun\\appdata\\roaming\\python\\python39\\site-packages (from pandas->altair==4.0) (2023.3)\n",
      "Downloading altair-4.0.0-py2.py3-none-any.whl (709 kB)\n",
      "   ---------------------------------------- 709.0/709.0 kB 2.8 MB/s eta 0:00:00\n",
      "Installing collected packages: altair\n",
      "  Attempting uninstall: altair\n",
      "    Found existing installation: altair 5.3.0\n",
      "    Uninstalling altair-5.3.0:\n",
      "      Successfully uninstalled altair-5.3.0\n"
     ]
    },
    {
     "name": "stderr",
     "output_type": "stream",
     "text": [
      "ERROR: pip's dependency resolver does not currently take into account all the packages that are installed. This behaviour is the source of the following dependency conflicts.\n",
      "gradio 4.31.3 requires altair<6.0,>=4.2.0, but you have altair 4.0.0 which is incompatible.\n"
     ]
    },
    {
     "name": "stdout",
     "output_type": "stream",
     "text": [
      "Successfully installed altair-4.0.0\n"
     ]
    }
   ],
   "source": [
    "!pip install altair==4.0"
   ],
   "metadata": {
    "collapsed": false,
    "ExecuteTime": {
     "end_time": "2024-05-18T02:07:55.803838Z",
     "start_time": "2024-05-18T02:07:43.828431700Z"
    }
   },
   "id": "20d462c3741c9bf7"
  }
 ],
 "metadata": {
  "kernelspec": {
   "display_name": "Python 3",
   "language": "python",
   "name": "python3"
  },
  "language_info": {
   "codemirror_mode": {
    "name": "ipython",
    "version": 2
   },
   "file_extension": ".py",
   "mimetype": "text/x-python",
   "name": "python",
   "nbconvert_exporter": "python",
   "pygments_lexer": "ipython2",
   "version": "2.7.6"
  }
 },
 "nbformat": 4,
 "nbformat_minor": 5
}
